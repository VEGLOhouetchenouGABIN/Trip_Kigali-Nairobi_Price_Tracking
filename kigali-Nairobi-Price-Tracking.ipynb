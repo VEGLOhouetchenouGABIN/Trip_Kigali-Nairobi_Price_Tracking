{
 "cells": [
  {
   "cell_type": "code",
   "execution_count": 40,
   "metadata": {},
   "outputs": [],
   "source": [
    "from selenium import webdriver\n",
    "from selenium.webdriver.common.by import By\n",
    "from selenium.common.exceptions import NoSuchElementException\n",
    "from selenium.webdriver.support.ui import WebDriverWait\n",
    "from selenium.webdriver.support import expected_conditions as EC"
   ]
  },
  {
   "cell_type": "code",
   "execution_count": 69,
   "metadata": {},
   "outputs": [],
   "source": [
    "class TripPriceTracking:\n",
    "    def __init__(self):\n",
    "        # Global variables needed for this project\n",
    "        self.travel_title=\"\"\n",
    "        self.travel_aivalability_for_this_price=\"\"\n",
    "        self.travel_option_title=\"\"\n",
    "        self.travel_option_duration=\"\"\n",
    "        self.travel_option_price=\"\"\n",
    "        self.price_is_cheap=False\n",
    "        self.real_price = 0\n",
    "        self.price_unit = \"$\" # default\n",
    "        self.url = \"https://www.kayak.com/explore/KGL-NBO/20240516,20240522\"\n",
    "        self.driver = webdriver.Firefox()\n",
    "        self.driver.implicitly_wait(15)\n",
    "        self.driver.get(self.url)\n",
    "        \n",
    "        \n",
    "    # Function to scrape trip infos\n",
    "    def kigaliNairobiPriceScraper(self):\n",
    "        try:\n",
    "            self.travel_title = self.driver.find_element(By.CLASS_NAME, 'clickout-box-title').text\n",
    "            print(self.travel_title)\n",
    "        except NoSuchElementException:\n",
    "            print(\"Travel title not found\")\n",
    "            \n",
    "        try:\n",
    "            self.travel_aivalability_for_this_price = self.driver.find_element(By.CLASS_NAME, 'clickout-box-subtitle').text\n",
    "            print(self.travel_aivalability_for_this_price)\n",
    "        except NoSuchElementException:\n",
    "            print(\"Availability information not found\")\n",
    "            \n",
    "        try:\n",
    "            self.travel_option_title = self.driver.find_element(By.CLASS_NAME, 'option-title').text\n",
    "            print(self.travel_option_title)\n",
    "        except NoSuchElementException:\n",
    "            print(\"Option title not found\")\n",
    "            \n",
    "        try:\n",
    "            self.travel_option_duration = self.driver.find_element(By.CLASS_NAME, 'option-duration').text\n",
    "            print(self.travel_option_duration)\n",
    "        except NoSuchElementException:\n",
    "            print(\"Option duration not found\")\n",
    "            \n",
    "        try:\n",
    "            self.travel_option_price = self.driver.find_element(By.CLASS_NAME, 'option-price').text\n",
    "            print(self.travel_option_price)\n",
    "        except NoSuchElementException:\n",
    "            print(\"Option price not found\")\n",
    "       \n",
    "    \n",
    "    \n",
    "    # Price checker function\n",
    "    def price_checker(self):\n",
    "        if self.travel_option_price and \"$\" in self.travel_option_price:\n",
    "            self.price_unit = \"$\"\n",
    "            self.real_price = int(self.travel_option_price.split(self.price_unit)[-1])\n",
    "            print(self.real_price)\n",
    "            \n",
    "    \n",
    "    # Is the price cheap or not checker function\n",
    "    def is_price_cheap(self):\n",
    "        if self.real_price != 0 and self.real_price <=300:\n",
    "            self.price_is_cheap = True\n",
    "            print(f\"The trip from Kigali to Nairobi is now on cheap price. Actual price: ${self.real_price}\")\n",
    "        else:\n",
    "            print(f\"Actual price of trip from Kigali to Nairobi: ${self.real_price}\")\n",
    "        \n",
    "        \n",
    "        \n",
    "    # Function to close the driver window\n",
    "    def close_driver_window(self):\n",
    "        self.driver.close()"
   ]
  },
  {
   "cell_type": "code",
   "execution_count": 70,
   "metadata": {},
   "outputs": [],
   "source": [
    "# Example usage:\n",
    "trip_tracker = TripPriceTracking()"
   ]
  },
  {
   "cell_type": "code",
   "execution_count": 71,
   "metadata": {},
   "outputs": [
    {
     "name": "stdout",
     "output_type": "stream",
     "text": [
      "KGL - NBO\n",
      "Thu, May 16 - Wed, May 22\n",
      "Cheapest\n",
      "1h 30m\n",
      "from $388\n"
     ]
    }
   ],
   "source": [
    "trip_tracker.kigaliNairobiPriceScraper()"
   ]
  },
  {
   "cell_type": "code",
   "execution_count": 72,
   "metadata": {},
   "outputs": [
    {
     "name": "stdout",
     "output_type": "stream",
     "text": [
      "388\n"
     ]
    }
   ],
   "source": [
    "trip_tracker.price_checker()"
   ]
  },
  {
   "cell_type": "code",
   "execution_count": 73,
   "metadata": {},
   "outputs": [
    {
     "name": "stdout",
     "output_type": "stream",
     "text": [
      "Actual price of trip from Kigali to Nairobi: $388\n"
     ]
    }
   ],
   "source": [
    "trip_tracker.is_price_cheap()"
   ]
  },
  {
   "cell_type": "code",
   "execution_count": 68,
   "metadata": {},
   "outputs": [],
   "source": [
    "trip_tracker.close_driver_window()"
   ]
  }
 ],
 "metadata": {
  "kernelspec": {
   "display_name": "Python 3",
   "language": "python",
   "name": "python3"
  },
  "language_info": {
   "codemirror_mode": {
    "name": "ipython",
    "version": 3
   },
   "file_extension": ".py",
   "mimetype": "text/x-python",
   "name": "python",
   "nbconvert_exporter": "python",
   "pygments_lexer": "ipython3",
   "version": "3.8.10"
  }
 },
 "nbformat": 4,
 "nbformat_minor": 2
}
